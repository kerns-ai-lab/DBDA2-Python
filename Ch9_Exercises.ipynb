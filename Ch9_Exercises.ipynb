{
 "cells": [
  {
   "cell_type": "code",
   "execution_count": 2,
   "metadata": {},
   "outputs": [],
   "source": [
    "import math\n",
    "\n",
    "def GammaShRaFromMeanSD(mean, sd):\n",
    "    shape = (mean ** 2) / (sd ** 2)\n",
    "    rate = mean / (sd ** 2)\n",
    "    return shape, rate\n",
    "\n",
    "def GammaShRaFromModeSD(mode, sd):\n",
    "    rate = (mode + math.sqrt((mode ** 2) + 4 * (sd ** 2))) / (2 * (sd ** 2))\n",
    "    shape = 1 + mode * rate\n",
    "    return shape, rate"
   ]
  },
  {
   "cell_type": "code",
   "execution_count": 3,
   "metadata": {},
   "outputs": [
    {
     "data": {
      "text/plain": [
       "(0.01, 0.01)"
      ]
     },
     "execution_count": 3,
     "metadata": {},
     "output_type": "execute_result"
    }
   ],
   "source": [
    "# 9.1 A)\n",
    "GammaShRaFromMeanSD(mean=1, sd=10)"
   ]
  },
  {
   "cell_type": "code",
   "execution_count": 4,
   "metadata": {},
   "outputs": [
    {
     "data": {
      "text/plain": [
       "(1.105124921972504, 0.10512492197250393)"
      ]
     },
     "execution_count": 4,
     "metadata": {},
     "output_type": "execute_result"
    }
   ],
   "source": [
    "GammaShRaFromModeSD(mode=1, sd=10)"
   ]
  },
  {
   "cell_type": "code",
   "execution_count": 12,
   "metadata": {},
   "outputs": [
    {
     "data": {
      "image/png": "[encoded data removed]",
      "text/plain": [
       "<Figure size 432x288 with 1 Axes>"
      ]
     },
     "metadata": {
      "needs_background": "light"
     },
     "output_type": "display_data"
    }
   ],
   "source": [
    "# 9.1 B)\n",
    "import numpy as np\n",
    "import scipy.stats as stats\n",
    "from matplotlib import pyplot as plt\n",
    "%matplotlib inline\n",
    "\n",
    "x = np.linspace (0, 100, 200)\n",
    "\n",
    "shape, rate = GammaShRaFromMeanSD(mean=1, sd=10)\n",
    "y1 = stats.gamma.pdf(x, a=shape, scale= 1 / rate )\n",
    "plt.plot(x, y1, \"y-\", label=(f\"alpha={shape}, beta={rate}\"))\n",
    "\n",
    "shape, rate = GammaShRaFromModeSD(mode=1, sd=10)\n",
    "y2 = stats.gamma.pdf(x, a=shape, scale= 1 / rate )\n",
    "plt.plot(x, y2, \"y-\", label=(r'$\\alpha=29, \\beta=3$'), color='#87ceeb')\n",
    "\n",
    "\n",
    "plt.ylim([0,0.08])\n",
    "plt.xlim([0,200])\n",
    "plt.show()"
   ]
  }
 ],
 "metadata": {
  "kernelspec": {
   "display_name": "Python 3",
   "language": "python",
   "name": "python3"
  },
  "language_info": {
   "codemirror_mode": {
    "name": "ipython",
    "version": 3
   },
   "file_extension": ".py",
   "mimetype": "text/x-python",
   "name": "python",
   "nbconvert_exporter": "python",
   "pygments_lexer": "ipython3",
   "version": "3.6.8"
  }
 },
 "nbformat": 4,
 "nbformat_minor": 2
}
